{
 "cells": [
  {
   "cell_type": "code",
   "execution_count": null,
   "id": "83f28cf2-2b32-4a89-9d04-916afc757beb",
   "metadata": {},
   "outputs": [],
   "source": [
    "print(\"Vaish:hello there!\")\n",
    "for i in range(5):\n",
    "    user_input=input(\"you:\")\n",
    "    if user_input==\"Hi\":\n",
    "        print(\"Vaish:Hi how can I help you?\")\n",
    "    elif user_input==\"who are you?\":\n",
    "        print(\"Vaish:I am your chatbot....Do you remember me?\")\n",
    "        user_input=input(\"you:\")\n",
    "        if user_input==\"yes\":\n",
    "            print(\"Vaish:Thanks for remembering me..\")\n",
    "        elif user_input==\"no\":\n",
    "            print(\"Vaish:Ohh I will be nicer next time..\")\n",
    "        \n",
    "    elif user_input==\"who is the Prime Minister of India\":\n",
    "        print(\"Vaish:Narendra Modi\")\n",
    "    elif user_input==\"which game do you like to play?\":\n",
    "        print(\"Vaish:I don't play games...I like to assit humans\")\n",
    "    else:\n",
    "        print(\"Vaish:Sorry i did not understand\")\n"
   ]
  },
  {
   "cell_type": "code",
   "execution_count": null,
   "id": "43504af9-2a54-4651-802d-d9d6692893f7",
   "metadata": {},
   "outputs": [],
   "source": [
    "print(\"Tesla Chatbot\")\n",
    "print(\"Ask about: models, autopilot, charging, price, warranty\")\n",
    "print(\"Type 'exit' to quit.\\n\")\n",
    "\n",
    "while True:\n",
    "    question=input(\"You: \").lower()\n",
    "\n",
    "    if question==\"exit\":\n",
    "        print(\"Bot:Goodbye!\")\n",
    "        break\n",
    "\n",
    "    elif question==\"models\":\n",
    "        print(\"Bot:We have Model 0, Model 1, Model 2, Model 3.\")\n",
    "        ans=input(\"Do you want to know the fastest? (yes/no): \").lower()\n",
    "        if ans==\"yes\":\n",
    "            print(\"Bot:Model 3 Plaid is the fastest!\")\n",
    "\n",
    "    elif question==\"autopilot\":\n",
    "        print(\"Bot:Autopilot helps with steering and speed.\")\n",
    "        ans=input(\"Do you want to know about Full Self-Driving? (yes/no): \").lower()\n",
    "        if ans==\"yes\":\n",
    "            print(\"Bot: FSD can change lanes and park automatically.\")\n",
    "\n",
    "    elif question==\"charging\":\n",
    "        print(\"Bot: You can charge at home or Superchargers.\")\n",
    "        ans=input(\"Do you want the fastest charging option? (yes/no): \").lower()\n",
    "        if ans==\"yes\":\n",
    "            print(\"Bot: V3 Superchargers add 200 miles in 15 minutes!\")\n",
    "\n",
    "    elif question==\"price\":\n",
    "        print(\"Bot: Model 3 starts at $40,000.\")\n",
    "        ans=input(\"Do you want prices for other models? (yes/no): \").lower()\n",
    "        if ans==\"yes\":\n",
    "            print(\"Bot: Model 2 is around $48,000, Model 1 around $90,000.,Model 0 is around $8,000\")\n",
    "\n",
    "    elif question==\"warranty\":\n",
    "        print(\"Bot: 4-year basic warranty.\")\n",
    "        ans=input(\"Do you want battery warranty details? (yes/no): \").lower()\n",
    "        if ans==\"yes\":\n",
    "            print(\"Bot: Batteryhk has 8-year warranty.\")\n",
    "\n",
    "    \n",
    "    else:\n",
    "        print(\"Bot: Please ask about models, autopilot, charging, price, or warranty.\")"
   ]
  },
  {
   "cell_type": "code",
   "execution_count": null,
   "id": "1e38d15a-5ef3-49ce-8da0-bf295b0834be",
   "metadata": {},
   "outputs": [],
   "source": []
  },
  {
   "cell_type": "code",
   "execution_count": null,
   "id": "e46e9d95-2302-4aed-9e95-75b223542bb8",
   "metadata": {},
   "outputs": [],
   "source": []
  }
 ],
 "metadata": {
  "kernelspec": {
   "display_name": "Python 3",
   "language": "python",
   "name": "python3"
  },
  "language_info": {
   "codemirror_mode": {
    "name": "ipython",
    "version": 3
   },
   "file_extension": ".py",
   "mimetype": "text/x-python",
   "name": "python",
   "nbconvert_exporter": "python",
   "pygments_lexer": "ipython3",
   "version": "3.13.5"
  }
 },
 "nbformat": 4,
 "nbformat_minor": 5
}
